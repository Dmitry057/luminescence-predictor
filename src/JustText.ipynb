{
 "cells": [
  {
   "cell_type": "code",
   "execution_count": 1,
   "id": "59ea1911-87b2-40a6-a1c9-c293ea9a8c07",
   "metadata": {},
   "outputs": [
    {
     "name": "stdout",
     "output_type": "stream",
     "text": [
      "env: CUDA_VISIBLE_DEVICES=1,2\n"
     ]
    }
   ],
   "source": [
    "%env CUDA_VISIBLE_DEVICES=1,2"
   ]
  },
  {
   "cell_type": "code",
   "execution_count": null,
   "id": "f17ef385-630e-4733-a50c-710f3cb7483c",
   "metadata": {},
   "outputs": [],
   "source": [
    "from transformers import T5Tokenizer, T5ForConditionalGeneration, TrainingArguments, Trainer\n",
    "from datasets import Dataset\n",
    "\n",
    "import pandas as pd\n",
    "\n",
    "from sklearn.model_selection import train_test_split\n",
    "from sklearn.metrics import mean_squared_error\n",
    "\n",
    "from tqdm.notebook import trange, tqdm\n",
    "\n",
    "import selfies as sf"
   ]
  },
  {
   "cell_type": "code",
   "execution_count": null,
   "id": "2ba4e311-0244-4e5b-b0a9-c07dab416e91",
   "metadata": {},
   "outputs": [],
   "source": [
    "tqdm.pandas()"
   ]
  },
  {
   "cell_type": "code",
   "execution_count": null,
   "id": "237d3692-9ee4-4ae2-967e-4bb7b4cb4fd5",
   "metadata": {},
   "outputs": [],
   "source": [
    "tokenizer = T5Tokenizer.from_pretrained(\"QizhiPei/biot5-base-mol2text\", model_max_length=512)\n",
    "model = T5ForConditionalGeneration.from_pretrained('QizhiPei/biot5-base-mol2text')"
   ]
  },
  {
   "cell_type": "markdown",
   "id": "dd9baa56-e47b-4f85-a2cd-45de11e55a28",
   "metadata": {
    "jp-MarkdownHeadingCollapsed": true
   },
   "source": [
    "# Проверка исходной модели на работоспособность"
   ]
  },
  {
   "cell_type": "code",
   "execution_count": null,
   "id": "9eb56549-34bf-4cc5-90b1-e7482ee0cd2f",
   "metadata": {},
   "outputs": [],
   "source": [
    "task_definition = 'Definition: You are given a molecule SELFIES. Your job is to generate the molecule description in English that fits the molecule SELFIES.\\n\\n'\n",
    "selfies_input = '[C][C][Branch1][C][O][C][C][=Branch1][C][=O][C][=Branch1][C][=O][O-1]'\n",
    "task_input = f'Now complete the following example -\\nInput: <bom>{selfies_input}<eom>\\nOutput: '"
   ]
  },
  {
   "cell_type": "code",
   "execution_count": null,
   "id": "9bd38f70-bb65-4f6e-9fb2-238828b041f0",
   "metadata": {},
   "outputs": [],
   "source": [
    "model_input = task_definition + task_input\n",
    "input_ids = tokenizer(model_input, return_tensors=\"pt\").input_ids"
   ]
  },
  {
   "cell_type": "code",
   "execution_count": null,
   "id": "e62fb1f8-7666-41ee-8db9-693574bcf59a",
   "metadata": {},
   "outputs": [],
   "source": [
    "generation_config = model.generation_config\n",
    "generation_config.max_length = 512\n",
    "generation_config.num_beams = 1\n",
    "\n",
    "outputs = model.generate(input_ids, generation_config=generation_config)\n",
    "\n",
    "print(tokenizer.decode(outputs[0], skip_special_tokens=True))"
   ]
  },
  {
   "cell_type": "markdown",
   "id": "1d5447db-5f39-45b7-ba86-167b5662d24b",
   "metadata": {},
   "source": [
    "# Обучение"
   ]
  },
  {
   "cell_type": "markdown",
   "id": "fd01ce20-28ae-4939-899d-3e088d6e183b",
   "metadata": {
    "jp-MarkdownHeadingCollapsed": true
   },
   "source": [
    "## подготовка датасета"
   ]
  },
  {
   "cell_type": "code",
   "execution_count": null,
   "id": "804b5a65-cba4-4d86-9050-5df923e44109",
   "metadata": {},
   "outputs": [],
   "source": [
    "df = pd.read_csv('train_split_fluor.csv')"
   ]
  },
  {
   "cell_type": "code",
   "execution_count": null,
   "id": "25a5ae0f-54b0-4dba-b009-34b9593e4e83",
   "metadata": {},
   "outputs": [],
   "source": [
    "df = df[[\"Chromophore\", \"Solvent\", \"Absorption max (nm)\"]] #Absorption max (nm) \tEmission max (nm)\n",
    "df = df.dropna()\n",
    "df = df[df[\"Solvent\"]!=\"gas\"]"
   ]
  },
  {
   "cell_type": "code",
   "execution_count": null,
   "id": "25366c2d-f6d4-485d-be47-be8013387dec",
   "metadata": {},
   "outputs": [],
   "source": [
    "def gen_task(chromophore, solvent):\n",
    "    task_definition = (\n",
    "        'Definition: You are given chromophore molecule SELFIES and solvent chromophore SELFIES.'\n",
    "        'Your job is to generate the wavelength of max chromophore molecule absorption fits the molecules SELFIES.\\n\\n')\n",
    "    try:\n",
    "        task_input = (\n",
    "            f'{task_definition}'\n",
    "            'Now complete the following example-\\n'\n",
    "            'Input: '\n",
    "            f'Chromophore: <bom>{sf.encoder(chromophore)}<eom> Solvent: <bom>{sf.encoder(solvent)}<eom>\\nOutput: ')\n",
    "    except:\n",
    "        task_input = None\n",
    "        print(chromophore, solvent)\n",
    "    return task_input"
   ]
  },
  {
   "cell_type": "code",
   "execution_count": null,
   "id": "78fbf967-64e0-43c8-a6c4-7e9ab14ca3b4",
   "metadata": {},
   "outputs": [],
   "source": [
    "df[\"input\"] = df.progress_apply(lambda x: gen_task(x.Chromophore, x.Solvent), axis=1)"
   ]
  },
  {
   "cell_type": "code",
   "execution_count": null,
   "id": "d0094ff9-8208-4f93-8707-a35a20c0f851",
   "metadata": {},
   "outputs": [],
   "source": [
    "df = df.dropna()"
   ]
  },
  {
   "cell_type": "code",
   "execution_count": null,
   "id": "50cb5922-d6a5-4cac-a5de-e47fe87de61e",
   "metadata": {},
   "outputs": [],
   "source": [
    "df[\"output\"] = df[\"Absorption max (nm)\"].astype(int).astype(str)"
   ]
  },
  {
   "cell_type": "code",
   "execution_count": null,
   "id": "bf1244d8-ae33-4aa2-bf31-9d67848651ed",
   "metadata": {},
   "outputs": [],
   "source": [
    "df[[\"input\", \"output\"]].head(3)"
   ]
  },
  {
   "cell_type": "code",
   "execution_count": null,
   "id": "726224ee-d6da-41f1-afe4-04115589176f",
   "metadata": {},
   "outputs": [],
   "source": [
    "df.to_csv(\"absorption_p1.csv\")"
   ]
  },
  {
   "cell_type": "markdown",
   "id": "95e03cd7-bf10-4e3d-852c-7ea0ab655fd9",
   "metadata": {},
   "source": [
    "## Обучение"
   ]
  },
  {
   "cell_type": "code",
   "execution_count": null,
   "id": "d5c3f956-3421-4483-8dfe-e3878ed58b3b",
   "metadata": {},
   "outputs": [],
   "source": [
    "mp = \"./_MODELS_AND_RESULTS/justtext-absorption-all-10epoch\""
   ]
  },
  {
   "cell_type": "code",
   "execution_count": null,
   "id": "df6f3e71-4e98-42fe-8a29-cf1f34cfe3a0",
   "metadata": {},
   "outputs": [],
   "source": [
    "df=pd.read_csv(\"absorption_p1.csv\")\n",
    "df[\"output\"] = df.output.astype(str)"
   ]
  },
  {
   "cell_type": "code",
   "execution_count": null,
   "id": "2385ef7b-6bb9-4f5d-89e3-2b63397320fb",
   "metadata": {},
   "outputs": [],
   "source": [
    "print(df.iloc[0].input)\n",
    "print(df.iloc[0].output)"
   ]
  },
  {
   "cell_type": "code",
   "execution_count": null,
   "id": "a5b53305-18a6-4e13-9104-7af2a448c867",
   "metadata": {},
   "outputs": [],
   "source": [
    "train, test = train_test_split(df[[\"input\", \"output\"]])\n",
    "\n",
    "train_dataset = Dataset.from_pandas(train)\n",
    "eval_dataset = Dataset.from_pandas(test)"
   ]
  },
  {
   "cell_type": "code",
   "execution_count": null,
   "id": "8684f78a-29c3-458f-acef-4dfdd721881d",
   "metadata": {},
   "outputs": [],
   "source": [
    "def tokenize_function(example):\n",
    "    inputs = tokenizer(example[\"input\"], padding=\"max_length\", truncation=True, max_length=512)\n",
    "    targets = tokenizer(example[\"output\"], padding=\"max_length\", truncation=True, max_length=512)\n",
    "    inputs[\"labels\"] = targets[\"input_ids\"]\n",
    "    return inputs\n",
    "\n",
    "tokenized_train_dataset = train_dataset.map(tokenize_function, batched=True)\n",
    "tokenized_eval_dataset = eval_dataset.map(tokenize_function, batched=True)"
   ]
  },
  {
   "cell_type": "code",
   "execution_count": null,
   "id": "c3ea1dd0-b653-4232-bd4e-754478cc5fbb",
   "metadata": {},
   "outputs": [],
   "source": [
    "training_args = TrainingArguments(\n",
    "    output_dir=f\"{mp}/results\",          # output directory\n",
    "    save_strategy=\"epoch\",\n",
    "    evaluation_strategy=\"epoch\",     # evaluate each epoch\n",
    "    learning_rate=1.33e-4/2,\n",
    "    per_device_train_batch_size=8,   # batch size for training\n",
    "    per_device_eval_batch_size=8,    # batch size for evaluation\n",
    "    num_train_epochs=10,              # number of training epochs\n",
    "    weight_decay=0.01,               # strength of weight decay\n",
    "    logging_dir=f\"{mp}/logs\",            # directory for storing logs\n",
    "    logging_steps=1,\n",
    "    load_best_model_at_end=True,\n",
    "    metric_for_best_model=\"eval_loss\"\n",
    ")\n",
    "\n",
    "trainer = Trainer(\n",
    "    model=model,\n",
    "    args=training_args,\n",
    "    train_dataset=tokenized_train_dataset,\n",
    "    eval_dataset=tokenized_eval_dataset\n",
    ")\n",
    "\n",
    "trainer.train()"
   ]
  },
  {
   "cell_type": "code",
   "execution_count": null,
   "id": "f33ab258-0e67-4c5c-a027-d29615d39c51",
   "metadata": {},
   "outputs": [],
   "source": [
    "model.save_pretrained(f\"{mp}/model\")\n",
    "tokenizer.save_pretrained(f\"{mp}/model\")"
   ]
  },
  {
   "cell_type": "code",
   "execution_count": 1,
   "id": "5ba01881-f28f-40f2-a7fb-448251d3f1c4",
   "metadata": {},
   "outputs": [],
   "source": [
    "import subprocess"
   ]
  },
  {
   "cell_type": "code",
   "execution_count": 2,
   "id": "71819c83-6d81-4bf6-8c29-deef213ba113",
   "metadata": {},
   "outputs": [
    {
     "data": {
      "text/plain": [
       "CompletedProcess(args=['kill', '-9', '1031650'], returncode=0)"
      ]
     },
     "execution_count": 2,
     "metadata": {},
     "output_type": "execute_result"
    }
   ],
   "source": [
    "subprocess.run([\"kill\",\"-9\",\"1031650\"])"
   ]
  },
  {
   "cell_type": "markdown",
   "id": "6dd0d598-8f94-455c-8912-dfd12619a2bc",
   "metadata": {},
   "source": [
    "## Проверка своей модели"
   ]
  },
  {
   "cell_type": "code",
   "execution_count": null,
   "id": "f4f2a0a9-8326-4d4c-9651-a511c7a588bd",
   "metadata": {},
   "outputs": [],
   "source": [
    "import torch"
   ]
  },
  {
   "cell_type": "code",
   "execution_count": null,
   "id": "8d77c693-9f3f-45f4-be22-f49d08da19f4",
   "metadata": {},
   "outputs": [],
   "source": [
    "device = torch.device(\"cuda\" if torch.cuda.is_available() else \"cpu\")\n",
    "model.to(device);"
   ]
  },
  {
   "cell_type": "code",
   "execution_count": null,
   "id": "51137760-f4dd-47de-ae40-81448908d857",
   "metadata": {},
   "outputs": [],
   "source": [
    "i = 0\n",
    "input_text = df[\"input\"].iloc[i]\n",
    "input_ids = tokenizer.encode(input_text, return_tensors=\"pt\").to(device)\n",
    "\n",
    "# Generate output text\n",
    "output_ids = model.generate(input_ids)\n",
    "output_text = tokenizer.decode(output_ids[0], skip_special_tokens=True)\n",
    "\n",
    "print(output_text, df[\"output\"].iloc[i])"
   ]
  },
  {
   "cell_type": "markdown",
   "id": "ca65fdb1-6e1b-43d4-8c3d-3ef5ec98f499",
   "metadata": {
    "jp-MarkdownHeadingCollapsed": true
   },
   "source": [
    "### проверка всех"
   ]
  },
  {
   "cell_type": "code",
   "execution_count": null,
   "id": "c61f1417-38f3-4b72-aff2-dd0f5c36536b",
   "metadata": {},
   "outputs": [],
   "source": [
    "pred = []\n",
    "real = []\n",
    "for i in trange(1000, 1100):\n",
    "    input_text = df[\"input\"].iloc[i]\n",
    "    input_ids = tokenizer.encode(input_text, return_tensors=\"pt\").to(device)\n",
    "    # Generate output text\n",
    "    output_ids = model.generate(input_ids)\n",
    "    output_text = tokenizer.decode(output_ids[0], skip_special_tokens=True)\n",
    "    pred+=[int(output_text),]\n",
    "    real+=[int(df[\"output\"].iloc[i]),]"
   ]
  },
  {
   "cell_type": "code",
   "execution_count": null,
   "id": "cafe805d-46e2-458f-979d-a9d8b1669311",
   "metadata": {},
   "outputs": [],
   "source": [
    "import numpy as np"
   ]
  },
  {
   "cell_type": "code",
   "execution_count": null,
   "id": "e354af7d-e6d8-4e8d-bc80-9f5d48357d3c",
   "metadata": {},
   "outputs": [],
   "source": [
    "pred = np.array(pred)\n",
    "real = np.array(real)"
   ]
  },
  {
   "cell_type": "code",
   "execution_count": null,
   "id": "2c7f81bd-074a-457c-b62b-16b4ed11fcf0",
   "metadata": {},
   "outputs": [],
   "source": [
    "from sklearn.metrics import mean_squared_error as mse"
   ]
  },
  {
   "cell_type": "code",
   "execution_count": null,
   "id": "9699ab44-b7ff-43bd-9ba6-9567eaf9808a",
   "metadata": {},
   "outputs": [],
   "source": [
    "mse(pred, real)"
   ]
  },
  {
   "cell_type": "markdown",
   "id": "be44c4fa-629c-43f1-bd02-296a248db66e",
   "metadata": {
    "jp-MarkdownHeadingCollapsed": true
   },
   "source": [
    "### другой метод"
   ]
  },
  {
   "cell_type": "code",
   "execution_count": null,
   "id": "9d35bfb5-6f27-4df7-a375-7a4d99374e96",
   "metadata": {},
   "outputs": [],
   "source": [
    "i = 1000\n",
    "model_input = df[\"input\"].iloc[i]\n",
    "input_ids = tokenizer(model_input, return_tensors=\"pt\").input_ids"
   ]
  },
  {
   "cell_type": "code",
   "execution_count": null,
   "id": "9810a691-a9fb-4b4e-8593-3f461521600f",
   "metadata": {},
   "outputs": [],
   "source": [
    "generation_config = model.generation_config\n",
    "generation_config.max_length = 512\n",
    "generation_config.num_beams = 1\n",
    "\n",
    "outputs = model.generate(input_ids, generation_config=generation_config)\n",
    "\n",
    "print(tokenizer.decode(outputs[0], skip_special_tokens=True))"
   ]
  },
  {
   "cell_type": "markdown",
   "id": "3a27d654-f49f-4af1-8474-f146c28e299e",
   "metadata": {
    "jp-MarkdownHeadingCollapsed": true
   },
   "source": [
    "# Получение эмбедингов"
   ]
  },
  {
   "cell_type": "code",
   "execution_count": null,
   "id": "c5319ee6-6731-43c7-ba6c-5eec7b31b209",
   "metadata": {},
   "outputs": [],
   "source": [
    "from sentence_transformers import SentenceTransformer"
   ]
  },
  {
   "cell_type": "code",
   "execution_count": null,
   "id": "8e3eb4f9-0eaf-4496-91f0-642b95e6333f",
   "metadata": {},
   "outputs": [],
   "source": [
    "text = [f'<bom>{selfies_input}<eom>']"
   ]
  },
  {
   "cell_type": "code",
   "execution_count": null,
   "id": "cfb243d5-7fe8-4a2d-9434-e7587bb15256",
   "metadata": {},
   "outputs": [],
   "source": [
    "m = SentenceTransformer(\"QizhiPei/biot5-base-mol2text\")"
   ]
  },
  {
   "cell_type": "code",
   "execution_count": null,
   "id": "97241dbf-6f84-426a-9bfa-a7f1b78bfdd4",
   "metadata": {},
   "outputs": [],
   "source": [
    "embeddings = m.encode(text)\n",
    "df = pd.DataFrame(embeddings)\n",
    "df"
   ]
  },
  {
   "cell_type": "code",
   "execution_count": null,
   "id": "f1c2c9dd-dd9e-43f0-b4e3-bb98fe2310e5",
   "metadata": {},
   "outputs": [],
   "source": []
  }
 ],
 "metadata": {
  "kernelspec": {
   "display_name": "Python 3 (ipykernel)",
   "language": "python",
   "name": "python3"
  },
  "language_info": {
   "codemirror_mode": {
    "name": "ipython",
    "version": 3
   },
   "file_extension": ".py",
   "mimetype": "text/x-python",
   "name": "python",
   "nbconvert_exporter": "python",
   "pygments_lexer": "ipython3",
   "version": "3.10.12"
  }
 },
 "nbformat": 4,
 "nbformat_minor": 5
}
